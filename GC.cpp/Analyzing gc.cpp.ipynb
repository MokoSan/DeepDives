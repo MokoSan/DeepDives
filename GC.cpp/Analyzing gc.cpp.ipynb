{
 "cells": [
  {
   "cell_type": "code",
   "execution_count": 1,
   "id": "e261235e",
   "metadata": {},
   "outputs": [],
   "source": [
    "GC_PATH = 'https://raw.githubusercontent.com/dotnet/runtime/main/src/coreclr/gc/gc.cpp'"
   ]
  },
  {
   "cell_type": "code",
   "execution_count": 3,
   "id": "5dbdea53",
   "metadata": {},
   "outputs": [
    {
     "name": "stderr",
     "output_type": "stream",
     "text": [
      "  % Total    % Received % Xferd  Average Speed   Time    Time     Time  Current\n",
      "                                 Dload  Upload   Total   Spent    Left  Speed\n",
      "\n",
      "  0     0    0     0    0     0      0      0 --:--:-- --:--:-- --:--:--     0\n",
      "100 1610k  100 1610k    0     0  8259k      0 --:--:-- --:--:-- --:--:-- 8259k\n"
     ]
    }
   ],
   "source": [
    "!curl \"https://raw.githubusercontent.com/dotnet/runtime/main/src/coreclr/gc/gc.cpp\" -o \"Files/gc.cpp\""
   ]
  },
  {
   "cell_type": "code",
   "execution_count": 5,
   "id": "b765ca39",
   "metadata": {},
   "outputs": [],
   "source": [
    "gc_file = \"./Files/gc.cpp\"\n",
    "with open(gc_file) as gc:\n",
    "    gc_lines = gc.readlines()\n",
    "    gc_all   = gc.read()"
   ]
  },
  {
   "cell_type": "code",
   "execution_count": 7,
   "id": "62fe09ee",
   "metadata": {},
   "outputs": [
    {
     "name": "stdout",
     "output_type": "stream",
     "text": [
      "gc.cpp has 46905 lines\n"
     ]
    }
   ],
   "source": [
    "print(f\"gc.cpp has {len(gc_lines)} lines\")"
   ]
  },
  {
   "cell_type": "code",
   "execution_count": null,
   "id": "782aeb80",
   "metadata": {},
   "outputs": [],
   "source": []
  }
 ],
 "metadata": {
  "kernelspec": {
   "display_name": "Python 3",
   "language": "python",
   "name": "python3"
  },
  "language_info": {
   "codemirror_mode": {
    "name": "ipython",
    "version": 3
   },
   "file_extension": ".py",
   "mimetype": "text/x-python",
   "name": "python",
   "nbconvert_exporter": "python",
   "pygments_lexer": "ipython3",
   "version": "3.8.8"
  }
 },
 "nbformat": 4,
 "nbformat_minor": 5
}
