{
 "cells": [
  {
   "cell_type": "code",
   "execution_count": 84,
   "id": "a6cf2c64",
   "metadata": {},
   "outputs": [],
   "source": [
    "import pandas as pd\n",
    "from collections import Counter, OrderedDict\n",
    "from matplotlib import pyplot as plt\n",
    "import ipywidgets as widgets"
   ]
  },
  {
   "cell_type": "code",
   "execution_count": 60,
   "id": "90fef550",
   "metadata": {},
   "outputs": [],
   "source": [
    "plt.rcParams[\"figure.autolayout\"] = True"
   ]
  },
  {
   "cell_type": "code",
   "execution_count": 21,
   "id": "b0c42c1a",
   "metadata": {},
   "outputs": [
    {
     "name": "stderr",
     "output_type": "stream",
     "text": [
      "  % Total    % Received % Xferd  Average Speed   Time    Time     Time  Current\n",
      "                                 Dload  Upload   Total   Spent    Left  Speed\n",
      "\n",
      "  0     0    0     0    0     0      0      0 --:--:-- --:--:-- --:--:--     0\n",
      "100 1610k  100 1610k    0     0  3579k      0 --:--:-- --:--:-- --:--:-- 3587k\n",
      "  % Total    % Received % Xferd  Average Speed   Time    Time     Time  Current\n",
      "                                 Dload  Upload   Total   Spent    Left  Speed\n",
      "\n",
      "  0     0    0     0    0     0      0      0 --:--:-- --:--:-- --:--:--     0\n",
      " 53  179k   53 98576    0     0   207k      0 --:--:-- --:--:-- --:--:--  207k\n",
      "100  179k  100  179k    0     0   350k      0 --:--:-- --:--:-- --:--:--  349k\n"
     ]
    }
   ],
   "source": [
    "!curl \"https://raw.githubusercontent.com/dotnet/runtime/main/src/coreclr/gc/gc.cpp\" -o \"Files/gc.cpp\"\n",
    "!curl \"https://raw.githubusercontent.com/dotnet/runtime/main/src/coreclr/gc/gcpriv.h\" -o \"Files/gcpriv.h\" "
   ]
  },
  {
   "cell_type": "code",
   "execution_count": 22,
   "id": "85c2947b",
   "metadata": {},
   "outputs": [],
   "source": [
    "gc_file = \"./Files/gc.cpp\"\n",
    "with open(gc_file) as gc:\n",
    "    gc_lines = gc.readlines()\n",
    "    gc_all   = gc.read()\n",
    "    \n",
    "gc_priv_file = \"./Files/gcpriv.h\"\n",
    "with open(gc_priv_file) as gc_priv:\n",
    "    gc_priv_lines = gc_priv.readlines()\n",
    "    gc_priv_all   = gc_priv.read()"
   ]
  },
  {
   "cell_type": "code",
   "execution_count": 23,
   "id": "fea55f21",
   "metadata": {},
   "outputs": [
    {
     "name": "stdout",
     "output_type": "stream",
     "text": [
      "gc.cpp has 46905 lines.\n",
      "gcpriv.h has 6161 lines.\n"
     ]
    }
   ],
   "source": [
    "print(f\"gc.cpp has {len(gc_lines)} lines.\")\n",
    "print(f\"gcpriv.h has {len(gc_priv_lines)} lines.\")"
   ]
  },
  {
   "cell_type": "markdown",
   "id": "088a2ffa",
   "metadata": {},
   "source": [
    "## GC Classes"
   ]
  },
  {
   "cell_type": "code",
   "execution_count": 77,
   "id": "5c728024",
   "metadata": {},
   "outputs": [
    {
     "data": {
      "text/html": [
       "<div>\n",
       "<style scoped>\n",
       "    .dataframe tbody tr th:only-of-type {\n",
       "        vertical-align: middle;\n",
       "    }\n",
       "\n",
       "    .dataframe tbody tr th {\n",
       "        vertical-align: top;\n",
       "    }\n",
       "\n",
       "    .dataframe thead th {\n",
       "        text-align: right;\n",
       "    }\n",
       "</style>\n",
       "<table border=\"1\" class=\"dataframe\">\n",
       "  <thead>\n",
       "    <tr style=\"text-align: right;\">\n",
       "      <th></th>\n",
       "      <th>Class Name</th>\n",
       "      <th>Line #</th>\n",
       "    </tr>\n",
       "  </thead>\n",
       "  <tbody>\n",
       "    <tr>\n",
       "      <th>0</th>\n",
       "      <td>gc_rand</td>\n",
       "      <td>31</td>\n",
       "    </tr>\n",
       "    <tr>\n",
       "      <th>1</th>\n",
       "      <td>t_join</td>\n",
       "      <td>750</td>\n",
       "    </tr>\n",
       "    <tr>\n",
       "      <th>2</th>\n",
       "      <td>exclusive_sync</td>\n",
       "      <td>1100</td>\n",
       "    </tr>\n",
       "    <tr>\n",
       "      <th>3</th>\n",
       "      <td>sorted_table</td>\n",
       "      <td>3271</td>\n",
       "    </tr>\n",
       "    <tr>\n",
       "      <th>4</th>\n",
       "      <td>CObjectHeader</td>\n",
       "      <td>4374</td>\n",
       "    </tr>\n",
       "    <tr>\n",
       "      <th>5</th>\n",
       "      <td>heap_select</td>\n",
       "      <td>5936</td>\n",
       "    </tr>\n",
       "    <tr>\n",
       "      <th>6</th>\n",
       "      <td>mark</td>\n",
       "      <td>6905</td>\n",
       "    </tr>\n",
       "    <tr>\n",
       "      <th>7</th>\n",
       "      <td>card_table_info</td>\n",
       "      <td>8160</td>\n",
       "    </tr>\n",
       "    <tr>\n",
       "      <th>8</th>\n",
       "      <td>introsort</td>\n",
       "      <td>9562</td>\n",
       "    </tr>\n",
       "    <tr>\n",
       "      <th>9</th>\n",
       "      <td>seg_free_spaces</td>\n",
       "      <td>10381</td>\n",
       "    </tr>\n",
       "    <tr>\n",
       "      <th>10</th>\n",
       "      <td>NoGCRegionLockHolder</td>\n",
       "      <td>41746</td>\n",
       "    </tr>\n",
       "  </tbody>\n",
       "</table>\n",
       "</div>"
      ],
      "text/plain": [
       "              Class Name  Line #\n",
       "0                gc_rand      31\n",
       "1                 t_join     750\n",
       "2         exclusive_sync    1100\n",
       "3           sorted_table    3271\n",
       "4          CObjectHeader    4374\n",
       "5            heap_select    5936\n",
       "6                   mark    6905\n",
       "7        card_table_info    8160\n",
       "8              introsort    9562\n",
       "9        seg_free_spaces   10381\n",
       "10  NoGCRegionLockHolder   41746"
      ]
     },
     "execution_count": 77,
     "metadata": {},
     "output_type": "execute_result"
    }
   ],
   "source": [
    "non_fwd_declared_classes_gc = [ (class_name.strip().split(' ')[1], idx) for idx, class_name in enumerate(gc_lines) if (\"class\" in class_name ) and (class_name.split(' ')[0] == \"class\") and (';' not in class_name) ]\n",
    "gc_non_fwd_declared_classes_df = pd.DataFrame(non_fwd_declared_classes_gc, columns= ['Class Name', 'Line #'])\n",
    "gc_non_fwd_declared_classes_df"
   ]
  },
  {
   "cell_type": "code",
   "execution_count": 79,
   "id": "dae904e4",
   "metadata": {},
   "outputs": [
    {
     "data": {
      "text/html": [
       "<div>\n",
       "<style scoped>\n",
       "    .dataframe tbody tr th:only-of-type {\n",
       "        vertical-align: middle;\n",
       "    }\n",
       "\n",
       "    .dataframe tbody tr th {\n",
       "        vertical-align: top;\n",
       "    }\n",
       "\n",
       "    .dataframe thead th {\n",
       "        text-align: right;\n",
       "    }\n",
       "</style>\n",
       "<table border=\"1\" class=\"dataframe\">\n",
       "  <thead>\n",
       "    <tr style=\"text-align: right;\">\n",
       "      <th></th>\n",
       "      <th>Class Name</th>\n",
       "      <th>Line #</th>\n",
       "    </tr>\n",
       "  </thead>\n",
       "  <tbody>\n",
       "    <tr>\n",
       "      <th>0</th>\n",
       "      <td>gc_rand</td>\n",
       "      <td>31</td>\n",
       "    </tr>\n",
       "    <tr>\n",
       "      <th>1</th>\n",
       "      <td>t_join</td>\n",
       "      <td>750</td>\n",
       "    </tr>\n",
       "    <tr>\n",
       "      <th>2</th>\n",
       "      <td>exclusive_sync</td>\n",
       "      <td>1100</td>\n",
       "    </tr>\n",
       "    <tr>\n",
       "      <th>3</th>\n",
       "      <td>mark</td>\n",
       "      <td>2076</td>\n",
       "    </tr>\n",
       "    <tr>\n",
       "      <th>4</th>\n",
       "      <td>generation</td>\n",
       "      <td>2077</td>\n",
       "    </tr>\n",
       "    <tr>\n",
       "      <th>5</th>\n",
       "      <td>heap_segment</td>\n",
       "      <td>2078</td>\n",
       "    </tr>\n",
       "    <tr>\n",
       "      <th>6</th>\n",
       "      <td>CObjectHeader</td>\n",
       "      <td>2079</td>\n",
       "    </tr>\n",
       "    <tr>\n",
       "      <th>7</th>\n",
       "      <td>dynamic_data</td>\n",
       "      <td>2080</td>\n",
       "    </tr>\n",
       "    <tr>\n",
       "      <th>8</th>\n",
       "      <td>l_heap</td>\n",
       "      <td>2081</td>\n",
       "    </tr>\n",
       "    <tr>\n",
       "      <th>9</th>\n",
       "      <td>sorted_table</td>\n",
       "      <td>2082</td>\n",
       "    </tr>\n",
       "    <tr>\n",
       "      <th>10</th>\n",
       "      <td>c_synchronize</td>\n",
       "      <td>2083</td>\n",
       "    </tr>\n",
       "    <tr>\n",
       "      <th>11</th>\n",
       "      <td>sorted_table</td>\n",
       "      <td>3271</td>\n",
       "    </tr>\n",
       "    <tr>\n",
       "      <th>12</th>\n",
       "      <td>CObjectHeader</td>\n",
       "      <td>4374</td>\n",
       "    </tr>\n",
       "    <tr>\n",
       "      <th>13</th>\n",
       "      <td>heap_select</td>\n",
       "      <td>5936</td>\n",
       "    </tr>\n",
       "    <tr>\n",
       "      <th>14</th>\n",
       "      <td>mark</td>\n",
       "      <td>6905</td>\n",
       "    </tr>\n",
       "    <tr>\n",
       "      <th>15</th>\n",
       "      <td>card_table_info</td>\n",
       "      <td>8160</td>\n",
       "    </tr>\n",
       "    <tr>\n",
       "      <th>16</th>\n",
       "      <td>introsort</td>\n",
       "      <td>9562</td>\n",
       "    </tr>\n",
       "    <tr>\n",
       "      <th>17</th>\n",
       "      <td>seg_free_spaces</td>\n",
       "      <td>10381</td>\n",
       "    </tr>\n",
       "    <tr>\n",
       "      <th>18</th>\n",
       "      <td>NoGCRegionLockHolder</td>\n",
       "      <td>41746</td>\n",
       "    </tr>\n",
       "  </tbody>\n",
       "</table>\n",
       "</div>"
      ],
      "text/plain": [
       "              Class Name  Line #\n",
       "0                gc_rand      31\n",
       "1                 t_join     750\n",
       "2         exclusive_sync    1100\n",
       "3                   mark    2076\n",
       "4             generation    2077\n",
       "5           heap_segment    2078\n",
       "6          CObjectHeader    2079\n",
       "7           dynamic_data    2080\n",
       "8                 l_heap    2081\n",
       "9           sorted_table    2082\n",
       "10         c_synchronize    2083\n",
       "11          sorted_table    3271\n",
       "12         CObjectHeader    4374\n",
       "13           heap_select    5936\n",
       "14                  mark    6905\n",
       "15       card_table_info    8160\n",
       "16             introsort    9562\n",
       "17       seg_free_spaces   10381\n",
       "18  NoGCRegionLockHolder   41746"
      ]
     },
     "execution_count": 79,
     "metadata": {},
     "output_type": "execute_result"
    }
   ],
   "source": [
    "all_gc_classes = [ (class_name.strip().split(' ')[1].replace(';',''), idx) for idx, class_name in enumerate(gc_lines) if (\"class\" in class_name ) and (class_name.split(' ')[0] == \"class\") ]\n",
    "all_gc_classes_df = pd.DataFrame(all_gc_classes, columns= ['Class Name', 'Line #'])\n",
    "all_gc_classes_df"
   ]
  },
  {
   "cell_type": "markdown",
   "id": "b5f95f2e",
   "metadata": {},
   "source": [
    "## C++ Analysis"
   ]
  },
  {
   "cell_type": "code",
   "execution_count": 82,
   "id": "2b37e65e",
   "metadata": {},
   "outputs": [],
   "source": [
    "def analyze_gc_cpp_based_on_csv(file_path):\n",
    "    with open(file_path) as keywords_file:\n",
    "        keywords = [line.split(',')[0].encode(\"ascii\", \"ignore\").decode().replace('\\n', '') for line in keywords_file.readlines()]\n",
    "    keyword_counters = Counter()\n",
    "    for keyword in keywords:\n",
    "        keyword_counters[keyword] = 0\n",
    "    for line in gc_lines:\n",
    "        for word in line.split(' '):\n",
    "            for keyword in keywords:\n",
    "                if keyword == word.lower() and line.split(' ')[0].strip() != '//':\n",
    "                    keyword_counters[keyword] += 1\n",
    "    return keyword_counters"
   ]
  },
  {
   "cell_type": "markdown",
   "id": "dcfe2ad7",
   "metadata": {},
   "source": [
    "### Keywords"
   ]
  },
  {
   "cell_type": "code",
   "execution_count": 83,
   "id": "36972f57",
   "metadata": {},
   "outputs": [
    {
     "name": "stdout",
     "output_type": "stream",
     "text": [
      "Counter({'if': 3347, 'size_t': 1242, 'return': 1003, 'for': 896, 'assert': 677, 'int': 667, 'void': 530, 'this': 374, 'while': 327, 'new': 117, 'static': 104, 'goto': 91, 'unsigned': 86, 'else': 85, 'case': 84, 'const': 75, 'double': 75, 'do': 73, 'inline': 31, 'short': 30, 'float': 29, 'class': 24, 'delete': 24, 'switch': 20, 'try': 20, 'char': 17, 'struct': 12, 'enum': 6, 'catch': 5, 'continue': 5, 'long': 3, 'volatile': 3, 'default': 2, 'extern': 2, 'nullptr': 2, 'register': 2, 'throw': 2, 'virtual': 2, 'break': 1, 'public': 1, 'typedef': 1, 'asm': 0, 'auto': 0, 'friend': 0, 'namespace': 0, 'operator': 0, 'private': 0, 'protected': 0, 'signed': 0, 'template': 0, 'typename': 0, 'union': 0})\n"
     ]
    },
    {
     "data": {
      "image/png": "[encoded data removed]",
      "text/plain": [
       "<Figure size 540x252 with 1 Axes>"
      ]
     },
     "metadata": {
      "needs_background": "light"
     },
     "output_type": "display_data"
    }
   ],
   "source": [
    "keyword_counters = analyze_gc_cpp_based_on_csv(\"./Files/ReservedKeywords.csv\")\n",
    "print(keyword_counters)\n",
    "most_common_keywords = OrderedDict(keyword_counters.most_common(12))\n",
    "plt.bar(most_common_keywords.keys(), most_common_keywords.values())\n",
    "plt.show()"
   ]
  },
  {
   "cell_type": "markdown",
   "id": "ca0ae102",
   "metadata": {},
   "source": [
    "### Operators"
   ]
  },
  {
   "cell_type": "code",
   "execution_count": 66,
   "id": "01aa916d",
   "metadata": {},
   "outputs": [
    {
     "name": "stdout",
     "output_type": "stream",
     "text": [
      "Counter({'=': 10567, '/': 5160, '*': 3588, '-': 3538, ':': 3477, '&': 3134, '>': 2811, '.': 2765, '::': 2256, '->': 1934, '+': 1853, '!': 1453, '%': 1221, '<': 1132, '==': 1037, '&&': 679, '++': 624, '!=': 519, '>=': 489, '|': 396, '+=': 377, '?': 376, '||': 286, '<=': 237, 'sizeof': 232, '**': 205, '--': 143, '<<': 126, '~': 84, '>>': 82, '-=': 70, '^': 25, '/=': 11, '*=': 6, '%=': 1})\n"
     ]
    },
    {
     "data": {
      "image/png": "[encoded data removed]",
      "text/plain": [
       "<Figure size 540x252 with 1 Axes>"
      ]
     },
     "metadata": {
      "needs_background": "light"
     },
     "output_type": "display_data"
    }
   ],
   "source": [
    "operators_counter = analyze_gc_cpp_based_on_csv(\"./Files/Operators.csv\")\n",
    "print(operators_counter)\n",
    "most_common_operators = OrderedDict(operators_counter.most_common(15))\n",
    "plt.bar(most_common_operators.keys(), most_common_operators.values())\n",
    "plt.show()"
   ]
  },
  {
   "cell_type": "markdown",
   "id": "9b9a7a03",
   "metadata": {},
   "source": [
    "### Directives"
   ]
  },
  {
   "cell_type": "code",
   "execution_count": 85,
   "id": "2f8002fd",
   "metadata": {},
   "outputs": [
    {
     "name": "stdout",
     "output_type": "stream",
     "text": [
      "Counter({'#endif': 1627, '#ifdef': 1459, '#else': 183, '#ifndef': 152, '#define': 135, '#if': 99, '#pragma': 36, '#undef': 7, '#error': 6, '#elif': 5, '#include': 3, '#import': 0, '#line': 0, '#using': 0})\n"
     ]
    },
    {
     "data": {
      "image/png": "[encoded data removed]",
      "text/plain": [
       "<Figure size 540x252 with 1 Axes>"
      ]
     },
     "metadata": {
      "needs_background": "light"
     },
     "output_type": "display_data"
    }
   ],
   "source": [
    "directives_counter = analyze_gc_cpp_based_on_csv(\"./Files/PreprocessorDirectives.csv\")\n",
    "print(directives_counter)\n",
    "most_common_directives = OrderedDict(directives_counter.most_common(11))\n",
    "plt.bar(most_common_directives.keys(), most_common_directives.values())\n",
    "plt.show()"
   ]
  }
 ],
 "metadata": {
  "kernelspec": {
   "display_name": "Python 3",
   "language": "python",
   "name": "python3"
  },
  "language_info": {
   "codemirror_mode": {
    "name": "ipython",
    "version": 3
   },
   "file_extension": ".py",
   "mimetype": "text/x-python",
   "name": "python",
   "nbconvert_exporter": "python",
   "pygments_lexer": "ipython3",
   "version": "3.8.8"
  }
 },
 "nbformat": 4,
 "nbformat_minor": 5
}
